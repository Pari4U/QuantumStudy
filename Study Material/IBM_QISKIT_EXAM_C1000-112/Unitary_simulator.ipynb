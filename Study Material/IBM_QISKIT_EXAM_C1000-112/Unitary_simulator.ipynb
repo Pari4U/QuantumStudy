{
 "cells": [
  {
   "cell_type": "code",
   "execution_count": 10,
   "id": "ecc6f4c6",
   "metadata": {},
   "outputs": [],
   "source": [
    "import numpy as np\n",
    "# Importing standard Qiskit libraries\n",
    "from qiskit import QuantumCircuit, transpile, Aer, IBMQ\n",
    "from qiskit.tools.jupyter import *\n",
    "from qiskit.visualization import *\n",
    "from ibm_quantum_widgets import *\n",
    "from qiskit import *\n",
    "# Loading your IBM Q account(s)\n",
    "#provider = IBMQ.load_account()"
   ]
  },
  {
   "cell_type": "code",
   "execution_count": 11,
   "id": "cbe60dc2",
   "metadata": {},
   "outputs": [],
   "source": [
    "q = QuantumRegister(2)\n",
    "c = ClassicalRegister(2)\n",
    "qc = QuantumCircuit(q, c)"
   ]
  },
  {
   "cell_type": "code",
   "execution_count": 12,
   "id": "81ca39c3",
   "metadata": {},
   "outputs": [
    {
     "data": {
      "text/plain": [
       "<qiskit.circuit.instructionset.InstructionSet at 0x7f4c82b23f10>"
      ]
     },
     "execution_count": 12,
     "metadata": {},
     "output_type": "execute_result"
    }
   ],
   "source": [
    "qc.h(q[0])\n",
    "qc.x(q[0])\n"
   ]
  },
  {
   "cell_type": "code",
   "execution_count": 13,
   "id": "3b149c17",
   "metadata": {},
   "outputs": [],
   "source": [
    "sim = Aer.get_backend('unitary_simulator')\n",
    "job = execute(qc, sim)\n",
    "unitary = job.result().get_unitary()\n"
   ]
  },
  {
   "cell_type": "code",
   "execution_count": 14,
   "id": "ce23eb1e",
   "metadata": {},
   "outputs": [
    {
     "data": {
      "text/plain": [
       "array([[ 0.70710678+0.j, -0.70710678+0.j,  0.        +0.j,\n",
       "         0.        +0.j],\n",
       "       [ 0.70710678+0.j,  0.70710678+0.j,  0.        +0.j,\n",
       "         0.        +0.j],\n",
       "       [ 0.        +0.j,  0.        +0.j,  0.70710678+0.j,\n",
       "        -0.70710678+0.j],\n",
       "       [ 0.        +0.j,  0.        +0.j,  0.70710678+0.j,\n",
       "         0.70710678+0.j]])"
      ]
     },
     "execution_count": 14,
     "metadata": {},
     "output_type": "execute_result"
    }
   ],
   "source": [
    "unitary"
   ]
  },
  {
   "cell_type": "code",
   "execution_count": 15,
   "id": "e2f698dd",
   "metadata": {},
   "outputs": [],
   "source": [
    "unitary = array_to_latex(unitary)"
   ]
  },
  {
   "cell_type": "code",
   "execution_count": 16,
   "id": "a549a866",
   "metadata": {},
   "outputs": [
    {
     "data": {
      "text/latex": [
       "$$\n",
       "\n",
       "\\begin{bmatrix}\n",
       "\\tfrac{1}{\\sqrt{2}} & -\\tfrac{1}{\\sqrt{2}} & 0 & 0  \\\\\n",
       " \\tfrac{1}{\\sqrt{2}} & \\tfrac{1}{\\sqrt{2}} & 0 & 0  \\\\\n",
       " 0 & 0 & \\tfrac{1}{\\sqrt{2}} & -\\tfrac{1}{\\sqrt{2}}  \\\\\n",
       " 0 & 0 & \\tfrac{1}{\\sqrt{2}} & \\tfrac{1}{\\sqrt{2}}  \\\\\n",
       " \\end{bmatrix}\n",
       "$$"
      ],
      "text/plain": [
       "<IPython.core.display.Latex object>"
      ]
     },
     "execution_count": 16,
     "metadata": {},
     "output_type": "execute_result"
    }
   ],
   "source": [
    "unitary"
   ]
  },
  {
   "cell_type": "code",
   "execution_count": null,
   "id": "e25da305",
   "metadata": {},
   "outputs": [],
   "source": []
  }
 ],
 "metadata": {
  "kernelspec": {
   "display_name": "Python 3",
   "language": "python",
   "name": "python3"
  },
  "language_info": {
   "codemirror_mode": {
    "name": "ipython",
    "version": 3
   },
   "file_extension": ".py",
   "mimetype": "text/x-python",
   "name": "python",
   "nbconvert_exporter": "python",
   "pygments_lexer": "ipython3",
   "version": "3.8.8"
  }
 },
 "nbformat": 4,
 "nbformat_minor": 5
}
