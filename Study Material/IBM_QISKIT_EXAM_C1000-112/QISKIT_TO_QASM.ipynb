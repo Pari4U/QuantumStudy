{
 "cells": [
  {
   "cell_type": "code",
   "execution_count": 15,
   "id": "234e8aed",
   "metadata": {},
   "outputs": [],
   "source": [
    "import numpy as np\n",
    "# Importing standard Qiskit libraries\n",
    "from qiskit import QuantumCircuit, transpile, Aer, IBMQ\n",
    "from qiskit.tools.jupyter import *\n",
    "from qiskit.visualization import *\n",
    "from ibm_quantum_widgets import *\n",
    "from qiskit import *\n",
    "# Loading your IBM Q account(s)\n",
    "#provider = IBMQ.load_account()"
   ]
  },
  {
   "cell_type": "code",
   "execution_count": 16,
   "id": "37dff576",
   "metadata": {},
   "outputs": [],
   "source": [
    "q = QuantumRegister(1)\n",
    "c = ClassicalRegister(1)\n",
    "qc = QuantumCircuit(q, c)"
   ]
  },
  {
   "cell_type": "code",
   "execution_count": 17,
   "id": "98a77704",
   "metadata": {},
   "outputs": [
    {
     "data": {
      "text/plain": [
       "<qiskit.circuit.instructionset.InstructionSet at 0x7fd5ebde2520>"
      ]
     },
     "execution_count": 17,
     "metadata": {},
     "output_type": "execute_result"
    }
   ],
   "source": [
    "qc.h(q[0])\n",
    "qc.x(q[0])\n",
    "qc.measure(q, c)"
   ]
  },
  {
   "cell_type": "code",
   "execution_count": 18,
   "id": "f46c9fc7",
   "metadata": {},
   "outputs": [
    {
     "name": "stdout",
     "output_type": "stream",
     "text": [
      "\u001b[92mOPENQASM\u001b[39m \u001b[96m2\u001b[39m.\u001b[96m0\u001b[39m;\n",
      "\u001b[92minclude\u001b[39m\u001b[91m \"qelib1.inc\"\u001b[39m;\n",
      "\u001b[92mqreg\u001b[39m q0[\u001b[96m1\u001b[39m];\n",
      "\u001b[92mcreg\u001b[39m c0[\u001b[96m1\u001b[39m];\n",
      "\u001b[95mh\u001b[39m q0[\u001b[96m0\u001b[39m];\n",
      "\u001b[95mx\u001b[39m q0[\u001b[96m0\u001b[39m];\n",
      "\u001b[94mmeasure\u001b[39m q0[\u001b[96m0\u001b[39m] -> c0[\u001b[96m0\u001b[39m];\n",
      "\n"
     ]
    }
   ],
   "source": [
    "#To convert into qasm use:-\n",
    "qc.qasm(formatted=True, filename='my_circuit.qasm')"
   ]
  },
  {
   "cell_type": "code",
   "execution_count": null,
   "id": "949a8599",
   "metadata": {},
   "outputs": [],
   "source": [
    "#To get circuit from qasm file use:- \n",
    "qc = QuantumCircuit.from_qasm_file('my_circuit.qam')"
   ]
  }
 ],
 "metadata": {
  "kernelspec": {
   "display_name": "Python 3",
   "language": "python",
   "name": "python3"
  },
  "language_info": {
   "codemirror_mode": {
    "name": "ipython",
    "version": 3
   },
   "file_extension": ".py",
   "mimetype": "text/x-python",
   "name": "python",
   "nbconvert_exporter": "python",
   "pygments_lexer": "ipython3",
   "version": "3.8.8"
  }
 },
 "nbformat": 4,
 "nbformat_minor": 5
}
