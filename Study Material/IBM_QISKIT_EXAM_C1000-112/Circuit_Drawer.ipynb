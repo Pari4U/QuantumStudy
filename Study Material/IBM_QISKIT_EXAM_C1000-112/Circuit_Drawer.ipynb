{
 "cells": [
  {
   "cell_type": "code",
   "execution_count": 3,
   "id": "a446b7c5",
   "metadata": {},
   "outputs": [],
   "source": [
    "\n",
    "import numpy as np\n",
    "# Importing standard Qiskit libraries\n",
    "from qiskit import QuantumCircuit, transpile, Aer, IBMQ\n",
    "from qiskit.tools.jupyter import *\n",
    "from qiskit.visualization import *\n",
    "from ibm_quantum_widgets import *\n",
    "from qiskit import *\n",
    "# Loading your IBM Q account(s)\n",
    "#provider = IBMQ.load_account()"
   ]
  },
  {
   "cell_type": "code",
   "execution_count": 4,
   "id": "0a0244a5",
   "metadata": {
    "scrolled": true
   },
   "outputs": [],
   "source": [
    "q = QuantumRegister(2)  #Defining qubits\n",
    "c = ClassicalRegister(2)  #Defining bits\n",
    "qc = QuantumCircuit(q, c) #Making a Circuit"
   ]
  },
  {
   "cell_type": "code",
   "execution_count": 5,
   "id": "13dc2570",
   "metadata": {},
   "outputs": [
    {
     "data": {
      "text/plain": [
       "<qiskit.circuit.instructionset.InstructionSet at 0x7f2bbb155070>"
      ]
     },
     "execution_count": 5,
     "metadata": {},
     "output_type": "execute_result"
    }
   ],
   "source": [
    "#Entanglement\n",
    "qc.h(q[0]) #Hadamard Gate\n",
    "qc.cx(q[0], q[1]) #CNOT Gate (Control on 1st qubit and target on 2nd qubit)\n",
    "qc.measure(q, c) #Measure qubits to bits"
   ]
  },
  {
   "cell_type": "code",
   "execution_count": 6,
   "id": "fa84ad28",
   "metadata": {},
   "outputs": [
    {
     "data": {
      "image/png": "[encoded data removed]",
      "text/plain": [
       "<Figure size 340.233x204.68 with 1 Axes>"
      ]
     },
     "execution_count": 6,
     "metadata": {},
     "output_type": "execute_result"
    }
   ],
   "source": [
    "qc.draw('mpl')"
   ]
  },
  {
   "cell_type": "code",
   "execution_count": 7,
   "id": "4fd612c9",
   "metadata": {},
   "outputs": [
    {
     "data": {
      "text/html": [
       "<pre style=\"word-wrap: normal;white-space: pre;background: #fff0;line-height: 1.1;font-family: &quot;Courier New&quot;,Courier,monospace\">      ┌───┐     ┌─┐   \n",
       "q0_0: ┤ H ├──■──┤M├───\n",
       "      └───┘┌─┴─┐└╥┘┌─┐\n",
       "q0_1: ─────┤ X ├─╫─┤M├\n",
       "           └───┘ ║ └╥┘\n",
       "c0: 2/═══════════╩══╩═\n",
       "                 0  1 </pre>"
      ],
      "text/plain": [
       "      ┌───┐     ┌─┐   \n",
       "q0_0: ┤ H ├──■──┤M├───\n",
       "      └───┘┌─┴─┐└╥┘┌─┐\n",
       "q0_1: ─────┤ X ├─╫─┤M├\n",
       "           └───┘ ║ └╥┘\n",
       "c0: 2/═══════════╩══╩═\n",
       "                 0  1 "
      ]
     },
     "execution_count": 7,
     "metadata": {},
     "output_type": "execute_result"
    }
   ],
   "source": [
    "qc.draw('text')"
   ]
  },
  {
   "cell_type": "code",
   "execution_count": 8,
   "id": "a5472807",
   "metadata": {},
   "outputs": [
    {
     "data": {
      "image/png": "[encoded data removed]",
      "text/plain": [
       "<PIL.Image.Image image mode=RGB size=485x162 at 0x7F2BBAF4CAF0>"
      ]
     },
     "execution_count": 8,
     "metadata": {},
     "output_type": "execute_result"
    }
   ],
   "source": [
    "qc.draw('latex')"
   ]
  },
  {
   "cell_type": "code",
   "execution_count": null,
   "id": "d3f0c3e3",
   "metadata": {},
   "outputs": [],
   "source": []
  }
 ],
 "metadata": {
  "kernelspec": {
   "display_name": "Python 3",
   "language": "python",
   "name": "python3"
  },
  "language_info": {
   "codemirror_mode": {
    "name": "ipython",
    "version": 3
   },
   "file_extension": ".py",
   "mimetype": "text/x-python",
   "name": "python",
   "nbconvert_exporter": "python",
   "pygments_lexer": "ipython3",
   "version": "3.8.8"
  }
 },
 "nbformat": 4,
 "nbformat_minor": 5
}
